{
 "cells": [
  {
   "cell_type": "code",
   "execution_count": 1,
   "id": "6dc65785",
   "metadata": {},
   "outputs": [],
   "source": [
    "from influxdb_client import InfluxDBClient, Point\n",
    "from influxdb_client.client.write_api import SYNCHRONOUS"
   ]
  },
  {
   "cell_type": "code",
   "execution_count": 3,
   "id": "36dccbb9",
   "metadata": {},
   "outputs": [],
   "source": [
    "# configuration.\n",
    "\n",
    "HOST_URL  = 'http://10.1.70.4:8086'\n",
    "API_TOKEN = 'GBrTQl7C-3RDzIkG_7wNM4hwLPhgweF9CBso-4x6fuvuc1m8I8VxKvwfYckeQqLECm-_BcUAbVjaIZfVAe0pqg=='\n",
    "ORG_NAME  = 'Weiss-GmbH'"
   ]
  },
  {
   "cell_type": "code",
   "execution_count": 4,
   "id": "8e1c76e7",
   "metadata": {},
   "outputs": [],
   "source": [
    "client = InfluxDBClient(url=HOST_URL, token=API_TOKEN, org=ORG_NAME)"
   ]
  },
  {
   "cell_type": "code",
   "execution_count": null,
   "id": "d65a3bfa",
   "metadata": {},
   "outputs": [],
   "source": [
    "query = '''\n",
    "\n",
    "'''"
   ]
  },
  {
   "cell_type": "code",
   "execution_count": null,
   "id": "59e293ed",
   "metadata": {},
   "outputs": [],
   "source": []
  },
  {
   "cell_type": "code",
   "execution_count": null,
   "id": "bcac0e88",
   "metadata": {},
   "outputs": [],
   "source": []
  },
  {
   "cell_type": "code",
   "execution_count": 5,
   "id": "d1fc5d27",
   "metadata": {},
   "outputs": [],
   "source": [
    "df = client.query_api().query_data_frame(org=ORG_NAME, query=query)"
   ]
  },
  {
   "cell_type": "code",
   "execution_count": null,
   "id": "c8f2e8a3",
   "metadata": {},
   "outputs": [],
   "source": []
  }
 ],
 "metadata": {
  "kernelspec": {
   "display_name": "Python 3 (ipykernel)",
   "language": "python",
   "name": "python3"
  },
  "language_info": {
   "codemirror_mode": {
    "name": "ipython",
    "version": 3
   },
   "file_extension": ".py",
   "mimetype": "text/x-python",
   "name": "python",
   "nbconvert_exporter": "python",
   "pygments_lexer": "ipython3",
   "version": "3.11.5"
  }
 },
 "nbformat": 4,
 "nbformat_minor": 5
}
